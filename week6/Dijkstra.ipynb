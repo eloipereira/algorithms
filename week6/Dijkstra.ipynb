{
 "cells": [
  {
   "cell_type": "code",
   "execution_count": 220,
   "metadata": {
    "collapsed": true
   },
   "outputs": [],
   "source": [
    "g = open(\"dijkstraData.txt\",\"r\")\n",
    "G={}\n",
    "for line in g:\n",
    "    k, *y = line.split()\n",
    "    k = int(k)\n",
    "    yc = { int(x[0]): int(x[1]) for x in list(map(lambda x: x.split(\",\"),y))}\n",
    "    G[k] = yc\n",
    "\n",
    "#print(G)"
   ]
  },
  {
   "cell_type": "code",
   "execution_count": 221,
   "metadata": {
    "collapsed": true
   },
   "outputs": [],
   "source": [
    "def dijkstra(G,orig):\n",
    "    import operator\n",
    "    \n",
    "    def weight(v,w):\n",
    "        if w in G[v]:\n",
    "            return G[v][w]\n",
    "        else:\n",
    "            return 1000000\n",
    "    \n",
    "    visited = {orig}\n",
    "    dist={}\n",
    "    dist[orig] = 0\n",
    "    diff = set(G.keys()).difference(visited)\n",
    "    while not len(diff) == 0:\n",
    "        prod = [(v,w, dist[v] + weight(v,w)) for v in visited for w in diff]    \n",
    "        min_index, min_value = min(enumerate(map(lambda x: x[2],prod)), key=operator.itemgetter(1))\n",
    "        (v,w,d) = prod[min_index]\n",
    "        visited.add(w)\n",
    "        diff = set(G.keys()).difference(visited)\n",
    "        dist[w] = d\n",
    "    return dist"
   ]
  },
  {
   "cell_type": "code",
   "execution_count": 222,
   "metadata": {
    "collapsed": true
   },
   "outputs": [],
   "source": [
    "sp = dijkstra(G,1)"
   ]
  },
  {
   "cell_type": "code",
   "execution_count": 227,
   "metadata": {},
   "outputs": [
    {
     "name": "stdout",
     "output_type": "stream",
     "text": [
      "2599 2610 2947 2052 2367 2399 2029 2442 2505 3068\n"
     ]
    }
   ],
   "source": [
    "print(sp[7],sp[37],sp[59],sp[82],sp[99],sp[115],sp[133],sp[165],sp[188],sp[197])"
   ]
  },
  {
   "cell_type": "code",
   "execution_count": null,
   "metadata": {
    "collapsed": true
   },
   "outputs": [],
   "source": []
  }
 ],
 "metadata": {
  "kernelspec": {
   "display_name": "Python 3",
   "language": "python",
   "name": "python3"
  },
  "language_info": {
   "codemirror_mode": {
    "name": "ipython",
    "version": 3
   },
   "file_extension": ".py",
   "mimetype": "text/x-python",
   "name": "python",
   "nbconvert_exporter": "python",
   "pygments_lexer": "ipython3",
   "version": "3.6.3"
  }
 },
 "nbformat": 4,
 "nbformat_minor": 2
}
