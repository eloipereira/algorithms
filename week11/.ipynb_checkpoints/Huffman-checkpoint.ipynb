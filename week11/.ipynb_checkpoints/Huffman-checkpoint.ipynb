{
 "cells": [
  {
   "cell_type": "code",
   "execution_count": 129,
   "metadata": {
    "collapsed": true
   },
   "outputs": [],
   "source": [
    "import heapq as h"
   ]
  },
  {
   "cell_type": "code",
   "execution_count": 130,
   "metadata": {
    "collapsed": true
   },
   "outputs": [],
   "source": [
    "fh = open('huffman.txt','r')"
   ]
  },
  {
   "cell_type": "code",
   "execution_count": 131,
   "metadata": {
    "collapsed": true
   },
   "outputs": [],
   "source": [
    "n = int(fh.readline())"
   ]
  },
  {
   "cell_type": "code",
   "execution_count": 132,
   "metadata": {},
   "outputs": [],
   "source": [
    "weights = list(map(int,fh.readlines()))"
   ]
  },
  {
   "cell_type": "code",
   "execution_count": 133,
   "metadata": {
    "collapsed": true
   },
   "outputs": [],
   "source": [
    "alphabet = []"
   ]
  },
  {
   "cell_type": "code",
   "execution_count": 134,
   "metadata": {
    "collapsed": true
   },
   "outputs": [],
   "source": [
    "for i in range(n):\n",
    "    h.heappush(alphabet,(weights[i],str(i)))"
   ]
  },
  {
   "cell_type": "code",
   "execution_count": 135,
   "metadata": {
    "collapsed": true
   },
   "outputs": [],
   "source": [
    "V = {}"
   ]
  },
  {
   "cell_type": "code",
   "execution_count": 136,
   "metadata": {
    "collapsed": true
   },
   "outputs": [],
   "source": [
    "class BinaryTree:\n",
    "    \n",
    "    def __init__(self, left = None, right = None, value = None):\n",
    "        self.value = value\n",
    "        self.left = BinaryTree(None, None, left) if left else None\n",
    "        self.right = BinaryTree(None, None, right) if right else None\n",
    "        V[self.value] = self\n",
    "\n",
    "    def getLength(self, fn):\n",
    "        if not (self.left and self.right):\n",
    "              return 0\n",
    "\n",
    "        leftLength = self.left.getLength(fn) if self.left else 0\n",
    "        rightLength = self.right.getLength(fn) if self.right else 0\n",
    "\n",
    "        return 1 + fn(leftLength, rightLength)"
   ]
  },
  {
   "cell_type": "code",
   "execution_count": 137,
   "metadata": {
    "collapsed": true
   },
   "outputs": [],
   "source": [
    "def huffman(alphabet):\n",
    "    assert(len(alphabet) > 1)\n",
    "    \n",
    "    # Base case\n",
    "    if len(alphabet) == 2:\n",
    "        return BinaryTree(alphabet[0][1],alphabet[1][1])\n",
    "    \n",
    "    # Recursive step\n",
    "    (wa, a) = h.heappop(alphabet)\n",
    "    (wb, b) = h.heappop(alphabet)\n",
    "    \n",
    "    ab = a + '_' + b\n",
    "    h.heappush(alphabet,(wa+wb,ab))\n",
    "    \n",
    "    tree = huffman(alphabet)\n",
    "    \n",
    "    V[ab].__dict__.update(BinaryTree(a, b).__dict__)\n",
    "    \n",
    "    return tree"
   ]
  },
  {
   "cell_type": "code",
   "execution_count": 138,
   "metadata": {
    "collapsed": true
   },
   "outputs": [],
   "source": [
    "tree = huffman(alphabet)"
   ]
  },
  {
   "cell_type": "code",
   "execution_count": 139,
   "metadata": {},
   "outputs": [
    {
     "name": "stdout",
     "output_type": "stream",
     "text": [
      "9\n",
      "19\n"
     ]
    }
   ],
   "source": [
    "print(tree.getLength(min)) \n",
    "print(tree.getLength(max)) "
   ]
  },
  {
   "cell_type": "code",
   "execution_count": null,
   "metadata": {
    "collapsed": true
   },
   "outputs": [],
   "source": []
  }
 ],
 "metadata": {
  "kernelspec": {
   "display_name": "Python 3",
   "language": "python",
   "name": "python3"
  },
  "language_info": {
   "codemirror_mode": {
    "name": "ipython",
    "version": 3
   },
   "file_extension": ".py",
   "mimetype": "text/x-python",
   "name": "python",
   "nbconvert_exporter": "python",
   "pygments_lexer": "ipython3",
   "version": "3.6.3"
  }
 },
 "nbformat": 4,
 "nbformat_minor": 2
}
