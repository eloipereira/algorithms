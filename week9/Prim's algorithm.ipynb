{
 "cells": [
  {
   "cell_type": "code",
   "execution_count": 123,
   "metadata": {
    "collapsed": true
   },
   "outputs": [],
   "source": [
    "import heapq as h"
   ]
  },
  {
   "cell_type": "code",
   "execution_count": 124,
   "metadata": {},
   "outputs": [],
   "source": [
    "fh = open(file='edges.txt',mode='r')"
   ]
  },
  {
   "cell_type": "code",
   "execution_count": 125,
   "metadata": {},
   "outputs": [],
   "source": [
    "(nV,nE) = map(int,fh.readline().split())"
   ]
  },
  {
   "cell_type": "code",
   "execution_count": 127,
   "metadata": {},
   "outputs": [],
   "source": [
    "G=dict()\n",
    "for line in fh:\n",
    "    u, v, c = map(int,line.split())\n",
    "    if u in G:\n",
    "        G[u].append((v,c))\n",
    "    else:\n",
    "        G[u] = [(v,c)]   \n",
    "    if v in G:\n",
    "        G[v].append((u,c))\n",
    "    else:\n",
    "        G[v] = [(u,c)]"
   ]
  },
  {
   "cell_type": "code",
   "execution_count": 137,
   "metadata": {},
   "outputs": [],
   "source": [
    "def mst(graph):\n",
    "    total = 0\n",
    "    explored = set()\n",
    "    start = next(iter(graph))\n",
    "    unexplored = [(0,start)]\n",
    "    while unexplored:\n",
    "        cost, w = h.heappop(unexplored)\n",
    "        if w not in explored:\n",
    "            explored.add(w)\n",
    "            total += cost\n",
    "            for neighbour, cost in graph[w]:\n",
    "                if neighbour not in explored:\n",
    "                    h.heappush(unexplored,(cost,neighbour))\n",
    "    return total"
   ]
  },
  {
   "cell_type": "code",
   "execution_count": 138,
   "metadata": {},
   "outputs": [
    {
     "data": {
      "text/plain": [
       "-3612829"
      ]
     },
     "execution_count": 138,
     "metadata": {},
     "output_type": "execute_result"
    }
   ],
   "source": [
    "mst(G)"
   ]
  }
 ],
 "metadata": {
  "kernelspec": {
   "display_name": "Python 3",
   "language": "python",
   "name": "python3"
  },
  "language_info": {
   "codemirror_mode": {
    "name": "ipython",
    "version": 3
   },
   "file_extension": ".py",
   "mimetype": "text/x-python",
   "name": "python",
   "nbconvert_exporter": "python",
   "pygments_lexer": "ipython3",
   "version": "3.6.3"
  }
 },
 "nbformat": 4,
 "nbformat_minor": 2
}
