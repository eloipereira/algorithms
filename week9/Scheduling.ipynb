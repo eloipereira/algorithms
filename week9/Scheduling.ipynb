{
 "cells": [
  {
   "cell_type": "code",
   "execution_count": 160,
   "metadata": {
    "collapsed": true
   },
   "outputs": [],
   "source": [
    "file = open(file='jobs.txt',mode='r')"
   ]
  },
  {
   "cell_type": "code",
   "execution_count": 161,
   "metadata": {
    "collapsed": true
   },
   "outputs": [],
   "source": [
    "n = file.readline()"
   ]
  },
  {
   "cell_type": "code",
   "execution_count": 162,
   "metadata": {},
   "outputs": [],
   "source": [
    "weight_len_diff_ration_pairs = list(map(lambda x: (int(x.split()[0]),int(x.split()[1]),int(x.split()[0])-int(x.split()[1]),int(x.split()[0])/int(x.split()[1])),file.readlines()))"
   ]
  },
  {
   "cell_type": "code",
   "execution_count": 163,
   "metadata": {},
   "outputs": [],
   "source": [
    "sorted_by_weight = sorted(weight_len_diff_ration_pairs, key=lambda k: -k[0])\n",
    "sorted_by_diff = sorted(sorted_by_weight, key=lambda k: -k[2])\n",
    "sorted_by_ratio = sorted(sorted_by_weight, key=lambda k: -k[3])"
   ]
  },
  {
   "cell_type": "code",
   "execution_count": 164,
   "metadata": {
    "collapsed": true
   },
   "outputs": [],
   "source": [
    "completion_times=[]\n",
    "weighted_sum = 0"
   ]
  },
  {
   "cell_type": "code",
   "execution_count": 166,
   "metadata": {},
   "outputs": [],
   "source": [
    "for (w,l,_,_) in sorted_by_diff:\n",
    "    if len(completion_times) == 0:\n",
    "        completion_times.append(l)\n",
    "        weighted_sum = w*l\n",
    "    else:\n",
    "        last = completion_times[len(completion_times)-1]\n",
    "        completion_times.append(l + last)\n",
    "        weighted_sum += w*(l+last)"
   ]
  },
  {
   "cell_type": "code",
   "execution_count": 167,
   "metadata": {},
   "outputs": [
    {
     "data": {
      "text/plain": [
       "69119377652"
      ]
     },
     "execution_count": 167,
     "metadata": {},
     "output_type": "execute_result"
    }
   ],
   "source": [
    "weighted_sum"
   ]
  },
  {
   "cell_type": "code",
   "execution_count": 168,
   "metadata": {
    "collapsed": true
   },
   "outputs": [],
   "source": [
    "completion_times=[]\n",
    "weighted_sum = 0"
   ]
  },
  {
   "cell_type": "code",
   "execution_count": 169,
   "metadata": {
    "collapsed": true
   },
   "outputs": [],
   "source": [
    "for (w,l,_,_) in sorted_by_ratio:\n",
    "    if len(completion_times) == 0:\n",
    "        completion_times.append(l)\n",
    "        weighted_sum = w*l\n",
    "    else:\n",
    "        last = completion_times[len(completion_times)-1]\n",
    "        completion_times.append(l + last)\n",
    "        weighted_sum += w*(l+last)"
   ]
  },
  {
   "cell_type": "code",
   "execution_count": 170,
   "metadata": {},
   "outputs": [
    {
     "data": {
      "text/plain": [
       "67311454237"
      ]
     },
     "execution_count": 170,
     "metadata": {},
     "output_type": "execute_result"
    }
   ],
   "source": [
    "weighted_sum"
   ]
  },
  {
   "cell_type": "code",
   "execution_count": null,
   "metadata": {
    "collapsed": true
   },
   "outputs": [],
   "source": []
  }
 ],
 "metadata": {
  "kernelspec": {
   "display_name": "Python 3",
   "language": "python",
   "name": "python3"
  },
  "language_info": {
   "codemirror_mode": {
    "name": "ipython",
    "version": 3
   },
   "file_extension": ".py",
   "mimetype": "text/x-python",
   "name": "python",
   "nbconvert_exporter": "python",
   "pygments_lexer": "ipython3",
   "version": "3.6.3"
  }
 },
 "nbformat": 4,
 "nbformat_minor": 2
}
