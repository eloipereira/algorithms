{
 "cells": [
  {
   "cell_type": "code",
   "execution_count": 221,
   "metadata": {
    "collapsed": true
   },
   "outputs": [],
   "source": [
    "fh = open('clustering1.txt','r')"
   ]
  },
  {
   "cell_type": "code",
   "execution_count": 222,
   "metadata": {},
   "outputs": [],
   "source": [
    "n = int(fh.readline())"
   ]
  },
  {
   "cell_type": "code",
   "execution_count": 223,
   "metadata": {},
   "outputs": [],
   "source": [
    "distance_func = dict(((int(x.split()[0]),int(x.split()[1])),int(x.split()[2])) for x in fh.readlines())"
   ]
  },
  {
   "cell_type": "code",
   "execution_count": 224,
   "metadata": {},
   "outputs": [],
   "source": [
    "def clustering(distance_func,k):\n",
    "    cluster_map = {i:i for i in range(1,n+1)}\n",
    "    sorted_edges = [(key, distance_func[key]) for key in sorted(distance_func, key=distance_func.get)]\n",
    "    while len(set(cluster_map.values())) > k:\n",
    "        for e in sorted_edges:\n",
    "            p = e[0][0]\n",
    "            q = e[0][1]\n",
    "            if not cluster_map[p] == cluster_map[q]:\n",
    "                cluster_map = {k: cluster_map[p] if v == cluster_map[q] else v for k, v in cluster_map.items()}\n",
    "                sorted_edges = list(filter(lambda e: not cluster_map[e[0][0]] == cluster_map[e[0][1]],sorted_edges))\n",
    "                break\n",
    "                \n",
    "    clusters = dict()\n",
    "    for key, value in cluster_map.items():\n",
    "        clusters.setdefault(value, list()).append(key)\n",
    "    \n",
    "    cluster_graph_edges = list(map(lambda e: ((cluster_map[e[0][0]], cluster_map[e[0][1]]), e[1]),sorted_edges))\n",
    "\n",
    "    cluster_graph = dict()\n",
    "    for e in cluster_graph_edges:\n",
    "        if e[0] not in cluster_graph:\n",
    "            cluster_graph[e[0]] = e[1]\n",
    "    \n",
    "    return cluster_map, list(clusters.values()), cluster_graph"
   ]
  },
  {
   "cell_type": "code",
   "execution_count": 225,
   "metadata": {},
   "outputs": [],
   "source": [
    "cluster_map, clusters, cluster_graph = clustering(distance_func,4)"
   ]
  },
  {
   "cell_type": "code",
   "execution_count": 226,
   "metadata": {},
   "outputs": [
    {
     "data": {
      "text/plain": [
       "106"
      ]
     },
     "execution_count": 226,
     "metadata": {},
     "output_type": "execute_result"
    }
   ],
   "source": [
    "min(cluster_graph.values()) # maximum spacing"
   ]
  },
  {
   "cell_type": "code",
   "execution_count": null,
   "metadata": {
    "collapsed": true
   },
   "outputs": [],
   "source": []
  },
  {
   "cell_type": "code",
   "execution_count": null,
   "metadata": {
    "collapsed": true
   },
   "outputs": [],
   "source": []
  }
 ],
 "metadata": {
  "kernelspec": {
   "display_name": "Python 3",
   "language": "python",
   "name": "python3"
  },
  "language_info": {
   "codemirror_mode": {
    "name": "ipython",
    "version": 3
   },
   "file_extension": ".py",
   "mimetype": "text/x-python",
   "name": "python",
   "nbconvert_exporter": "python",
   "pygments_lexer": "ipython3",
   "version": "3.6.3"
  }
 },
 "nbformat": 4,
 "nbformat_minor": 2
}
