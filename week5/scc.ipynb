{
 "cells": [
  {
   "cell_type": "markdown",
   "metadata": {},
   "source": [
    "# Find the largest Strongly Connected Components of a Directed Graph\n",
    "\n",
    "The file SCC.txt contains the edges of a directed graph. \n",
    "Vertices are labeled as positive integers from 1 to 875714. \n",
    "Every row indicates an edge, the vertex label in first column is the tail and the vertex label in second column is the head (recall the graph is directed, and the edges are directed from the first column vertex to the second column vertex). \n",
    "So for example, the 11th row looks liks : \"2 47646\". \n",
    "This just means that the vertex with label 2 has an outgoing edge to the vertex with label 47646\n",
    "\n",
    "Your task is to code up the algorithm from the video lectures for computing strongly connected components (SCCs), and to run this algorithm on the given graph."
   ]
  },
  {
   "cell_type": "code",
   "execution_count": 3,
   "metadata": {},
   "outputs": [
    {
     "name": "stdout",
     "output_type": "stream",
     "text": [
      "(8388608, -1)\n",
      "2000\n"
     ]
    }
   ],
   "source": [
    "import resource\n",
    "import sys\n",
    "\n",
    "print (resource.getrlimit(resource.RLIMIT_STACK))\n",
    "\n",
    "print(sys.getrecursionlimit())\n",
    "\n",
    "resource.setrlimit(resource.RLIMIT_STACK, [0x10000000, resource.RLIM_INFINITY])\n",
    "sys.setrecursionlimit(0x100000)\n",
    "\n",
    "g = open(\"SCC.txt\",\"r\")\n",
    "G = {}\n",
    "V = set()\n",
    "for line in g:\n",
    "    x, y = line.split()\n",
    "    x = int(x)\n",
    "    y = int(y)\n",
    "    V.add(x)\n",
    "    V.add(y)\n",
    "    if x in G:\n",
    "        temp = G[x]\n",
    "        temp.append(y)\n",
    "        G[x] = temp \n",
    "    else:\n",
    "        G[x] = [y]    \n",
    "g.close()\n",
    "V = list(V)"
   ]
  },
  {
   "cell_type": "code",
   "execution_count": 4,
   "metadata": {},
   "outputs": [],
   "source": [
    "def revGraph(G):\n",
    "    Grev = {}\n",
    "    for k,values in G.items():\n",
    "        for v in values:\n",
    "            if v in Grev:\n",
    "                temp = Grev[v]\n",
    "                temp.append(k)\n",
    "                Grev[v] = temp   \n",
    "            else:\n",
    "                Grev[v] = [k]\n",
    "    return Grev"
   ]
  },
  {
   "cell_type": "code",
   "execution_count": 5,
   "metadata": {},
   "outputs": [],
   "source": [
    "def dfs_loop(G,V):\n",
    "    visited = {}\n",
    "    finished = {}\n",
    "    leader = {}\n",
    "    t = 0\n",
    "    s = None\n",
    "    \n",
    "    def dfs(G,i):\n",
    "        nonlocal visited\n",
    "        nonlocal leader\n",
    "        nonlocal s\n",
    "        nonlocal t\n",
    "        nonlocal finished\n",
    "        visited[i] = True\n",
    "        #print(\"node explored: \",i)\n",
    "        leader[i] = s\n",
    "        #print(\"leader of %d is %d\" % (i,s))\n",
    "        if i in G:\n",
    "            for j in G[i]:\n",
    "                if j not in visited:\n",
    "                    dfs(G,j)\n",
    "        t += 1\n",
    "        finished[i] = t\n",
    "        \n",
    "    for i in reversed(V):\n",
    "        if i not in visited:\n",
    "            s = i\n",
    "            dfs(G,i)\n",
    "    return finished, leader"
   ]
  },
  {
   "cell_type": "markdown",
   "metadata": {},
   "source": [
    " Let Grev denote the graph G after the orientation of all arcs have been reversed\n",
    " Run the DFS-Loop subroutine on Grev, processing vertices according to the given order, to obtain a finishing time f(v) for each vertex v ∈ V .\n",
    " Run the DFS-Loop subroutine on G, processing vertices in decreasing order of f(v), to assign a leader to each vertex v ∈ V .\n",
    " The strongly connected components of G correspond to vertices of G that share a common leader"
   ]
  },
  {
   "cell_type": "code",
   "execution_count": 7,
   "metadata": {},
   "outputs": [],
   "source": [
    "def scc(G,V):\n",
    "    #print(\"G\",G)\n",
    "    Grev = revGraph(G)\n",
    "    #print(\"Grev\",Grev)\n",
    "    finished,leader = dfs_loop(G,V)\n",
    "    #print(finished)\n",
    "    orderedV = [i for i in map(lambda y: y[0],sorted(finished.items(),key=lambda x: x[1]))]\n",
    "    #print(orderedV)\n",
    "    finished, leader = dfs_loop(Grev,orderedV)\n",
    "    return leader"
   ]
  },
  {
   "cell_type": "code",
   "execution_count": 8,
   "metadata": {},
   "outputs": [],
   "source": [
    "s=scc(G,V)"
   ]
  },
  {
   "cell_type": "code",
   "execution_count": 9,
   "metadata": {
    "collapsed": true
   },
   "outputs": [],
   "source": [
    "def sizeOfSCC(scc):\n",
    "    from collections import Counter\n",
    "    res = Counter(list(scc.values()))\n",
    "    return list(res.values())\n",
    "    \n",
    "    "
   ]
  },
  {
   "cell_type": "code",
   "execution_count": 14,
   "metadata": {},
   "outputs": [],
   "source": [
    "l = list(reversed(sorted(sizeOfSCC(s))))"
   ]
  },
  {
   "cell_type": "code",
   "execution_count": 15,
   "metadata": {},
   "outputs": [
    {
     "name": "stdout",
     "output_type": "stream",
     "text": [
      "434821 968 459 313 211\n"
     ]
    }
   ],
   "source": [
    "print(l[0],l[1],l[2],l[3],l[4])"
   ]
  },
  {
   "cell_type": "code",
   "execution_count": null,
   "metadata": {
    "collapsed": true
   },
   "outputs": [],
   "source": []
  }
 ],
 "metadata": {
  "kernelspec": {
   "display_name": "Python 3",
   "language": "python",
   "name": "python3"
  },
  "language_info": {
   "codemirror_mode": {
    "name": "ipython",
    "version": 3
   },
   "file_extension": ".py",
   "mimetype": "text/x-python",
   "name": "python",
   "nbconvert_exporter": "python",
   "pygments_lexer": "ipython3",
   "version": "3.6.3"
  }
 },
 "nbformat": 4,
 "nbformat_minor": 2
}
