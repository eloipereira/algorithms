{
 "cells": [
  {
   "cell_type": "code",
   "execution_count": 154,
   "metadata": {},
   "outputs": [],
   "source": [
    "import heapq as hq\n",
    "import heapq_max as hqm\n",
    "from functools import reduce"
   ]
  },
  {
   "cell_type": "code",
   "execution_count": 161,
   "metadata": {},
   "outputs": [],
   "source": [
    "data = list(map(int, open('Median.txt').read().splitlines()))"
   ]
  },
  {
   "cell_type": "code",
   "execution_count": 162,
   "metadata": {},
   "outputs": [],
   "source": [
    "h_low = [] #max head"
   ]
  },
  {
   "cell_type": "code",
   "execution_count": 163,
   "metadata": {
    "collapsed": true
   },
   "outputs": [],
   "source": [
    "h_high = [] #min heap"
   ]
  },
  {
   "cell_type": "code",
   "execution_count": 164,
   "metadata": {},
   "outputs": [],
   "source": [
    "def insert_median(x):\n",
    "    \n",
    "    global h_low, h_high\n",
    "    if len(h_low) == 0:\n",
    "        hqm.heappush_max(h_low,x)\n",
    "    else:\n",
    "        if x > h_low[0]:\n",
    "            hq.heappush(h_high,x)\n",
    "            if len(h_high) > len(h_low):\n",
    "                y = hq.heappop(h_high)\n",
    "                hqm.heappush_max(h_low,y)\n",
    "        else:\n",
    "            hqm.heappush_max(h_low,x)\n",
    "            if len(h_low) - len(h_high) > 1:\n",
    "                y = hqm.heappop_max(h_low)\n",
    "                hq.heappush(h_high,y)\n",
    "    return h_low[0]"
   ]
  },
  {
   "cell_type": "code",
   "execution_count": 165,
   "metadata": {},
   "outputs": [
    {
     "name": "stdout",
     "output_type": "stream",
     "text": [
      "1213\n"
     ]
    }
   ],
   "source": [
    "medians = []\n",
    "\n",
    "for i in range(len(data)):\n",
    "    x = data[i]\n",
    "    m = insert_median(x)\n",
    "    medians.append(m)\n",
    "\n",
    "sum_medians = reduce(lambda x,y: (x+y)%10000, medians)\n",
    "print(sum_medians)"
   ]
  },
  {
   "cell_type": "code",
   "execution_count": null,
   "metadata": {
    "collapsed": true
   },
   "outputs": [],
   "source": []
  },
  {
   "cell_type": "code",
   "execution_count": null,
   "metadata": {
    "collapsed": true
   },
   "outputs": [],
   "source": []
  }
 ],
 "metadata": {
  "kernelspec": {
   "display_name": "Python 3",
   "language": "python",
   "name": "python3"
  },
  "language_info": {
   "codemirror_mode": {
    "name": "ipython",
    "version": 3
   },
   "file_extension": ".py",
   "mimetype": "text/x-python",
   "name": "python",
   "nbconvert_exporter": "python",
   "pygments_lexer": "ipython3",
   "version": "3.6.3"
  }
 },
 "nbformat": 4,
 "nbformat_minor": 2
}
